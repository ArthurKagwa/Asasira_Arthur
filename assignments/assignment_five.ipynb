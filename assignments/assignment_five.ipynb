{
 "cells": [
  {
   "cell_type": "code",
   "execution_count": 225,
   "id": "f439ad79",
   "metadata": {},
   "outputs": [
    {
     "name": "stdout",
     "output_type": "stream",
     "text": [
      "Note: you may need to restart the kernel to use updated packages.\n"
     ]
    }
   ],
   "source": [
    "%pip install --quiet pandas numpy matplotlib seaborn\n",
    "import pandas as pd\n",
    "import numpy as np\n",
    "import matplotlib.pyplot as plt\n",
    "import seaborn as sns"
   ]
  },
  {
   "cell_type": "code",
   "execution_count": 226,
   "id": "813b1208",
   "metadata": {},
   "outputs": [
    {
     "name": "stdout",
     "output_type": "stream",
     "text": [
      "  Sensor_ID        Date Soil_Moisture(%) Soil_pH Temperature(C) Humidity(%)  \\\n",
      "0  SEN-1000  2025-01-01            36.22    6.98           21.3        50.4   \n",
      "1  SEN-1001  2025-01-02            76.55    5.03           23.5        34.3   \n",
      "2  SEN-1002  2025-01-03            61.24    6.52           21.9        54.6   \n",
      "3  SEN-1003  2025-01-04            51.91    6.62           24.0        48.7   \n",
      "4  SEN-1004  2025-01-05            20.92    5.98           19.2        70.6   \n",
      "\n",
      "  Crop_Type Fertilizer_Recommended(kg/ha) Irrigation_Recommended(mm)  \\\n",
      "0  Tomatoes                          67.6                       26.6   \n",
      "1     Wheat                         130.4                        8.3   \n",
      "2  Tomatoes                          36.0                       29.4   \n",
      "3     Maize                          85.8                       19.6   \n",
      "4     Wheat                          75.6                       29.9   \n",
      "\n",
      "  Drone_Image_ID  \n",
      "0       IMG-2000  \n",
      "1       IMG-2001  \n",
      "2       IMG-2002  \n",
      "3       IMG-2003  \n",
      "4       IMG-2004  \n",
      "<class 'pandas.core.frame.DataFrame'>\n",
      "RangeIndex: 913 entries, 0 to 912\n",
      "Data columns (total 10 columns):\n",
      " #   Column                         Non-Null Count  Dtype \n",
      "---  ------                         --------------  ----- \n",
      " 0   Sensor_ID                      913 non-null    object\n",
      " 1   Date                           909 non-null    object\n",
      " 2   Soil_Moisture(%)               913 non-null    object\n",
      " 3   Soil_pH                        913 non-null    object\n",
      " 4   Temperature(C)                 913 non-null    object\n",
      " 5   Humidity(%)                    913 non-null    object\n",
      " 6   Crop_Type                      909 non-null    object\n",
      " 7   Fertilizer_Recommended(kg/ha)  913 non-null    object\n",
      " 8   Irrigation_Recommended(mm)     913 non-null    object\n",
      " 9   Drone_Image_ID                 913 non-null    object\n",
      "dtypes: object(10)\n",
      "memory usage: 71.5+ KB\n",
      "None\n",
      "       Sensor_ID        Date Soil_Moisture(%) Soil_pH Temperature(C)  \\\n",
      "count        913         909              913     913            913   \n",
      "unique       800         798              750     313            170   \n",
      "top     SEN-1430  2026-09-10            error    7.54           19.1   \n",
      "freq           2           2                5      11             13   \n",
      "\n",
      "       Humidity(%) Crop_Type Fertilizer_Recommended(kg/ha)  \\\n",
      "count          913       909                           913   \n",
      "unique         448         5                           595   \n",
      "top           56.0     Wheat                          66.9   \n",
      "freq             8       203                             8   \n",
      "\n",
      "       Irrigation_Recommended(mm) Drone_Image_ID  \n",
      "count                         913            913  \n",
      "unique                        243            800  \n",
      "top                           8.0       IMG-2430  \n",
      "freq                           11              2  \n",
      "(913, 10)\n",
      "Sensor_ID                        object\n",
      "Date                             object\n",
      "Soil_Moisture(%)                 object\n",
      "Soil_pH                          object\n",
      "Temperature(C)                   object\n",
      "Humidity(%)                      object\n",
      "Crop_Type                        object\n",
      "Fertilizer_Recommended(kg/ha)    object\n",
      "Irrigation_Recommended(mm)       object\n",
      "Drone_Image_ID                   object\n",
      "dtype: object\n"
     ]
    }
   ],
   "source": [
    "# read the dataset\n",
    "df = pd.read_csv('climate_action_data.csv')\n",
    "\n",
    "# inspect the dataset\n",
    "print(df.head())\n",
    "print(df.info())\n",
    "print(df.describe())\n",
    "print(df.shape)\n",
    "print(df.dtypes)\n",
    "\n"
   ]
  },
  {
   "cell_type": "code",
   "execution_count": 227,
   "id": "7fe9d7da",
   "metadata": {},
   "outputs": [
    {
     "data": {
      "text/plain": [
       "Sensor_ID                        0\n",
       "Date                             4\n",
       "Soil_Moisture(%)                 0\n",
       "Soil_pH                          0\n",
       "Temperature(C)                   0\n",
       "Humidity(%)                      0\n",
       "Crop_Type                        4\n",
       "Fertilizer_Recommended(kg/ha)    0\n",
       "Irrigation_Recommended(mm)       0\n",
       "Drone_Image_ID                   0\n",
       "dtype: int64"
      ]
     },
     "execution_count": 227,
     "metadata": {},
     "output_type": "execute_result"
    }
   ],
   "source": [
    "# identify empty cells\n",
    "df.isna().sum()"
   ]
  },
  {
   "cell_type": "code",
   "execution_count": 228,
   "id": "36d49fa0",
   "metadata": {},
   "outputs": [],
   "source": [
    "# numeric_cols = list(df.columns)\n",
    "numeric_cols = ['Soil_pH','Temperature(C)','Humidity(%)','Fertilizer_Recommended(kg/ha)','Irrigation_Recommended(mm)','Soil_Moisture(%)']\n",
    "for col in numeric_cols:\n",
    "    df[col] = pd.to_numeric(df[col], errors='coerce')\n"
   ]
  },
  {
   "cell_type": "code",
   "execution_count": 229,
   "id": "28412c6a",
   "metadata": {},
   "outputs": [
    {
     "data": {
      "text/html": [
       "<div>\n",
       "<style scoped>\n",
       "    .dataframe tbody tr th:only-of-type {\n",
       "        vertical-align: middle;\n",
       "    }\n",
       "\n",
       "    .dataframe tbody tr th {\n",
       "        vertical-align: top;\n",
       "    }\n",
       "\n",
       "    .dataframe thead th {\n",
       "        text-align: right;\n",
       "    }\n",
       "</style>\n",
       "<table border=\"1\" class=\"dataframe\">\n",
       "  <thead>\n",
       "    <tr style=\"text-align: right;\">\n",
       "      <th></th>\n",
       "      <th>Sensor_ID</th>\n",
       "      <th>Date</th>\n",
       "      <th>Soil_Moisture(%)</th>\n",
       "      <th>Soil_pH</th>\n",
       "      <th>Temperature(C)</th>\n",
       "      <th>Humidity(%)</th>\n",
       "      <th>Crop_Type</th>\n",
       "      <th>Fertilizer_Recommended(kg/ha)</th>\n",
       "      <th>Irrigation_Recommended(mm)</th>\n",
       "      <th>Drone_Image_ID</th>\n",
       "    </tr>\n",
       "  </thead>\n",
       "  <tbody>\n",
       "    <tr>\n",
       "      <th>0</th>\n",
       "      <td>SEN-1000</td>\n",
       "      <td>2025-01-01</td>\n",
       "      <td>36.22</td>\n",
       "      <td>6.98</td>\n",
       "      <td>21.3</td>\n",
       "      <td>50.4</td>\n",
       "      <td>Tomatoes</td>\n",
       "      <td>67.6</td>\n",
       "      <td>26.6</td>\n",
       "      <td>IMG-2000</td>\n",
       "    </tr>\n",
       "    <tr>\n",
       "      <th>1</th>\n",
       "      <td>SEN-1001</td>\n",
       "      <td>2025-01-02</td>\n",
       "      <td>76.55</td>\n",
       "      <td>5.03</td>\n",
       "      <td>23.5</td>\n",
       "      <td>34.3</td>\n",
       "      <td>Wheat</td>\n",
       "      <td>130.4</td>\n",
       "      <td>8.3</td>\n",
       "      <td>IMG-2001</td>\n",
       "    </tr>\n",
       "    <tr>\n",
       "      <th>2</th>\n",
       "      <td>SEN-1002</td>\n",
       "      <td>2025-01-03</td>\n",
       "      <td>61.24</td>\n",
       "      <td>6.52</td>\n",
       "      <td>21.9</td>\n",
       "      <td>54.6</td>\n",
       "      <td>Tomatoes</td>\n",
       "      <td>36.0</td>\n",
       "      <td>29.4</td>\n",
       "      <td>IMG-2002</td>\n",
       "    </tr>\n",
       "    <tr>\n",
       "      <th>3</th>\n",
       "      <td>SEN-1003</td>\n",
       "      <td>2025-01-04</td>\n",
       "      <td>51.91</td>\n",
       "      <td>6.62</td>\n",
       "      <td>24.0</td>\n",
       "      <td>48.7</td>\n",
       "      <td>Maize</td>\n",
       "      <td>85.8</td>\n",
       "      <td>19.6</td>\n",
       "      <td>IMG-2003</td>\n",
       "    </tr>\n",
       "    <tr>\n",
       "      <th>4</th>\n",
       "      <td>SEN-1004</td>\n",
       "      <td>2025-01-05</td>\n",
       "      <td>20.92</td>\n",
       "      <td>5.98</td>\n",
       "      <td>19.2</td>\n",
       "      <td>70.6</td>\n",
       "      <td>Wheat</td>\n",
       "      <td>75.6</td>\n",
       "      <td>29.9</td>\n",
       "      <td>IMG-2004</td>\n",
       "    </tr>\n",
       "  </tbody>\n",
       "</table>\n",
       "</div>"
      ],
      "text/plain": [
       "  Sensor_ID        Date  Soil_Moisture(%)  Soil_pH  Temperature(C)  \\\n",
       "0  SEN-1000  2025-01-01             36.22     6.98            21.3   \n",
       "1  SEN-1001  2025-01-02             76.55     5.03            23.5   \n",
       "2  SEN-1002  2025-01-03             61.24     6.52            21.9   \n",
       "3  SEN-1003  2025-01-04             51.91     6.62            24.0   \n",
       "4  SEN-1004  2025-01-05             20.92     5.98            19.2   \n",
       "\n",
       "   Humidity(%) Crop_Type  Fertilizer_Recommended(kg/ha)  \\\n",
       "0         50.4  Tomatoes                           67.6   \n",
       "1         34.3     Wheat                          130.4   \n",
       "2         54.6  Tomatoes                           36.0   \n",
       "3         48.7     Maize                           85.8   \n",
       "4         70.6     Wheat                           75.6   \n",
       "\n",
       "   Irrigation_Recommended(mm) Drone_Image_ID  \n",
       "0                        26.6       IMG-2000  \n",
       "1                         8.3       IMG-2001  \n",
       "2                        29.4       IMG-2002  \n",
       "3                        19.6       IMG-2003  \n",
       "4                        29.9       IMG-2004  "
      ]
     },
     "execution_count": 229,
     "metadata": {},
     "output_type": "execute_result"
    }
   ],
   "source": [
    "# identify empty cells\n",
    "df.isna().sum()\n",
    "df.head()\n",
    "\n"
   ]
  },
  {
   "cell_type": "code",
   "execution_count": 230,
   "id": "ae7fdc71",
   "metadata": {},
   "outputs": [
    {
     "name": "stderr",
     "output_type": "stream",
     "text": [
      "/var/folders/t4/fp87jt9n1438scx07zt_2q_80000gp/T/ipykernel_52424/2521653733.py:2: FutureWarning: A value is trying to be set on a copy of a DataFrame or Series through chained assignment using an inplace method.\n",
      "The behavior will change in pandas 3.0. This inplace method will never work because the intermediate object on which we are setting values always behaves as a copy.\n",
      "\n",
      "For example, when doing 'df[col].method(value, inplace=True)', try using 'df.method({col: value}, inplace=True)' or df[col] = df[col].method(value) instead, to perform the operation inplace on the original object.\n",
      "\n",
      "\n",
      "  df[col].fillna(df[col].mode(), inplace=True)\n"
     ]
    }
   ],
   "source": [
    "for col in numeric_cols:\n",
    "    df[col].fillna(df[col].mode(), inplace=True)"
   ]
  },
  {
   "cell_type": "code",
   "execution_count": 231,
   "id": "210e026d",
   "metadata": {},
   "outputs": [
    {
     "name": "stdout",
     "output_type": "stream",
     "text": [
      "4\n",
      "Most frequent date: 2025-01-04 00:00:00\n",
      "Frequency of most frequent date: 2\n"
     ]
    }
   ],
   "source": [
    "df['Date'] = pd.to_datetime(df['Date'], errors='coerce')\n",
    "\n",
    "print(df['Date'].isna().sum())\n",
    "# Print the most frequent date in the 'Date' column\n",
    "print(\"Most frequent date:\", df['Date'].mode()[0])\n",
    "# frequency of most frequent date\n",
    "print(\"Frequency of most frequent date:\", df['Date'].value_counts().iloc[0])"
   ]
  },
  {
   "cell_type": "code",
   "execution_count": 232,
   "id": "b955db6f",
   "metadata": {},
   "outputs": [
    {
     "name": "stdout",
     "output_type": "stream",
     "text": [
      "Duplicate rows count: 111\n"
     ]
    }
   ],
   "source": [
    "# show duplicate count\n",
    "print(\"Duplicate rows count:\", df.duplicated().sum())\n"
   ]
  },
  {
   "cell_type": "code",
   "execution_count": 233,
   "id": "3acfe4cb",
   "metadata": {},
   "outputs": [
    {
     "name": "stdout",
     "output_type": "stream",
     "text": [
      "Duplicate rows count after removing duplicates: 0\n"
     ]
    }
   ],
   "source": [
    "# remove duplicates\n",
    "\n",
    "df.drop_duplicates(inplace=True)\n",
    "# show duplicate count after removing duplicates\n",
    "print(\"Duplicate rows count after removing duplicates:\", df.duplicated().sum())"
   ]
  },
  {
   "cell_type": "code",
   "execution_count": 234,
   "id": "9b328659",
   "metadata": {},
   "outputs": [
    {
     "name": "stdout",
     "output_type": "stream",
     "text": [
      "Sensor_ID                        0\n",
      "Date                             4\n",
      "Soil_Moisture(%)                 5\n",
      "Soil_pH                          5\n",
      "Temperature(C)                   5\n",
      "Humidity(%)                      5\n",
      "Crop_Type                        4\n",
      "Fertilizer_Recommended(kg/ha)    5\n",
      "Irrigation_Recommended(mm)       5\n",
      "Drone_Image_ID                   0\n",
      "dtype: int64\n",
      "(802, 10)\n"
     ]
    }
   ],
   "source": [
    "print(df.isna().sum())\n",
    "print(df.shape)"
   ]
  },
  {
   "cell_type": "code",
   "execution_count": 235,
   "id": "6c90d26c",
   "metadata": {},
   "outputs": [
    {
     "name": "stdout",
     "output_type": "stream",
     "text": [
      "(798, 10)\n",
      "Duplicate rows count after removing null dates: 0\n"
     ]
    }
   ],
   "source": [
    "# since the rest of the data has no duplicate dates. I will drop the null dates\n",
    "df.dropna(subset=['Date'], inplace=True)\n",
    "print(df.shape)\n",
    "# check for duplicates again\n",
    "print(\"Duplicate rows count after removing null dates:\", df['Date'].isna().sum())\n"
   ]
  },
  {
   "cell_type": "code",
   "execution_count": 237,
   "id": "cb29897e",
   "metadata": {},
   "outputs": [
    {
     "name": "stdout",
     "output_type": "stream",
     "text": [
      "frequency of crop types Crop_Type\n",
      "Wheat       172\n",
      "Tomatoes    166\n",
      "Maize       155\n",
      "Beans       151\n",
      "Lettuce     150\n",
      "Name: count, dtype: int64\n",
      "Missing crop types: 4\n"
     ]
    }
   ],
   "source": [
    "print(\"frequency of crop types\",df['Crop_Type'].value_counts())\n",
    "print(\"Missing crop types:\", df['Crop_Type'].isna().sum())\n",
    "\n",
    "\n"
   ]
  },
  {
   "cell_type": "code",
   "execution_count": null,
   "id": "24c69537",
   "metadata": {},
   "outputs": [
    {
     "name": "stdout",
     "output_type": "stream",
     "text": [
      "Crop_Type\n",
      "Wheat       172\n",
      "Tomatoes    166\n",
      "Maize       155\n",
      "Beans       151\n",
      "Lettuce     150\n",
      "Name: count, dtype: int64\n",
      "Sensor_ID                        0\n",
      "Date                             0\n",
      "Soil_Moisture(%)                 5\n",
      "Soil_pH                          5\n",
      "Temperature(C)                   5\n",
      "Humidity(%)                      5\n",
      "Crop_Type                        0\n",
      "Fertilizer_Recommended(kg/ha)    5\n",
      "Irrigation_Recommended(mm)       5\n",
      "Drone_Image_ID                   0\n",
      "dtype: int64\n",
      "(794, 10)\n"
     ]
    }
   ],
   "source": [
    "df.dropna(subset=['Crop_Type'], inplace=True)\n",
    "print(df['Crop_Type'].value_counts())\n",
    "# check for empty cells again\n",
    "print(df.isna().sum())   \n",
    "print(df.shape)"
   ]
  },
  {
   "cell_type": "code",
   "execution_count": null,
   "id": "b94fa64d",
   "metadata": {},
   "outputs": [],
   "source": []
  }
 ],
 "metadata": {
  "kernelspec": {
   "display_name": "data",
   "language": "python",
   "name": "python3"
  },
  "language_info": {
   "codemirror_mode": {
    "name": "ipython",
    "version": 3
   },
   "file_extension": ".py",
   "mimetype": "text/x-python",
   "name": "python",
   "nbconvert_exporter": "python",
   "pygments_lexer": "ipython3",
   "version": "3.13.3"
  }
 },
 "nbformat": 4,
 "nbformat_minor": 5
}
