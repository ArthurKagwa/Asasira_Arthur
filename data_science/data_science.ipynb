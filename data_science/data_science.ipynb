{
 "cells": [
  {
   "cell_type": "markdown",
   "id": "e4868744",
   "metadata": {},
   "source": [
    "### Data Science\n",
    "- Data Science is an interdisciplinary field that uses scientific methods, processes, algorithms, and systems to extract knowledge and insights from structured and unstructured data.\n",
    "\n",
    "#### Careers in Data Science\n",
    "- **Data Scientist**: Analyzes complex data sets to inform strategic decisions.\n",
    "- **Data Analyst**: Interprets data and provides actionable insights.\n",
    "- **Machine Learning Engineer**: Designs and implements machine learning models.\n",
    "- **Data Engineer**: Builds and maintains the architecture for data generation and processing.\n",
    "- **Business Intelligence Analyst**: Uses data analysis and visualization to support business decisions.\n",
    "- **Statistician**: Applies statistical theories and methods to collect, analyze, and interpret data.\n",
    "- **Data Architect**: Designs and manages data systems and databases."
   ]
  },
  {
   "cell_type": "code",
   "execution_count": null,
   "id": "ea5d7718",
   "metadata": {},
   "outputs": [
    {
     "name": "stdout",
     "output_type": "stream",
     "text": [
      "hello world\n"
     ]
    }
   ],
   "source": [
    "# file handling\n",
    "\n",
    "file = open('test.txt', 'r')\n",
    "\n",
    "# read the entire file\n",
    "content = file.read()\n",
    "\n",
    "# print the content\n",
    "print(content)\n",
    "\n",
    "file.close()\n",
    "\n",
    "\n"
   ]
  },
  {
   "cell_type": "code",
   "execution_count": null,
   "id": "0eea8a9e",
   "metadata": {},
   "outputs": [
    {
     "name": "stdout",
     "output_type": "stream",
     "text": [
      "File removed successfully\n"
     ]
    },
    {
     "ename": "FileNotFoundError",
     "evalue": "[Errno 2] No such file or directory: 'test_1.txt'",
     "output_type": "error",
     "traceback": [
      "\u001b[31m---------------------------------------------------------------------------\u001b[39m",
      "\u001b[31mFileNotFoundError\u001b[39m                         Traceback (most recent call last)",
      "\u001b[36mCell\u001b[39m\u001b[36m \u001b[39m\u001b[32mIn[10]\u001b[39m\u001b[32m, line 11\u001b[39m\n\u001b[32m      9\u001b[39m     \u001b[38;5;28mprint\u001b[39m(\u001b[33m\"\u001b[39m\u001b[33mThe file does not exist\u001b[39m\u001b[33m\"\u001b[39m)\n\u001b[32m     10\u001b[39m \u001b[38;5;66;03m# create a new file\u001b[39;00m\n\u001b[32m---> \u001b[39m\u001b[32m11\u001b[39m \u001b[38;5;28;01mwith\u001b[39;00m \u001b[38;5;28;43mopen\u001b[39;49m\u001b[43m(\u001b[49m\u001b[33;43m'\u001b[39;49m\u001b[33;43mtest_1.txt\u001b[39;49m\u001b[33;43m'\u001b[39;49m\u001b[43m)\u001b[49m \u001b[38;5;28;01mas\u001b[39;00m file:\n\u001b[32m     12\u001b[39m     file.write(\u001b[33m\"\u001b[39m\u001b[33mThis is a new file created using Python.\u001b[39m\u001b[33m\"\u001b[39m)\n\u001b[32m     13\u001b[39m     \u001b[38;5;28mprint\u001b[39m(\u001b[33m\"\u001b[39m\u001b[33mFile created successfully\u001b[39m\u001b[33m\"\u001b[39m)\n",
      "\u001b[36mFile \u001b[39m\u001b[32m/opt/anaconda3/envs/data/lib/python3.13/site-packages/IPython/core/interactiveshell.py:326\u001b[39m, in \u001b[36m_modified_open\u001b[39m\u001b[34m(file, *args, **kwargs)\u001b[39m\n\u001b[32m    319\u001b[39m \u001b[38;5;28;01mif\u001b[39;00m file \u001b[38;5;129;01min\u001b[39;00m {\u001b[32m0\u001b[39m, \u001b[32m1\u001b[39m, \u001b[32m2\u001b[39m}:\n\u001b[32m    320\u001b[39m     \u001b[38;5;28;01mraise\u001b[39;00m \u001b[38;5;167;01mValueError\u001b[39;00m(\n\u001b[32m    321\u001b[39m         \u001b[33mf\u001b[39m\u001b[33m\"\u001b[39m\u001b[33mIPython won\u001b[39m\u001b[33m'\u001b[39m\u001b[33mt let you open fd=\u001b[39m\u001b[38;5;132;01m{\u001b[39;00mfile\u001b[38;5;132;01m}\u001b[39;00m\u001b[33m by default \u001b[39m\u001b[33m\"\u001b[39m\n\u001b[32m    322\u001b[39m         \u001b[33m\"\u001b[39m\u001b[33mas it is likely to crash IPython. If you know what you are doing, \u001b[39m\u001b[33m\"\u001b[39m\n\u001b[32m    323\u001b[39m         \u001b[33m\"\u001b[39m\u001b[33myou can use builtins\u001b[39m\u001b[33m'\u001b[39m\u001b[33m open.\u001b[39m\u001b[33m\"\u001b[39m\n\u001b[32m    324\u001b[39m     )\n\u001b[32m--> \u001b[39m\u001b[32m326\u001b[39m \u001b[38;5;28;01mreturn\u001b[39;00m \u001b[43mio_open\u001b[49m\u001b[43m(\u001b[49m\u001b[43mfile\u001b[49m\u001b[43m,\u001b[49m\u001b[43m \u001b[49m\u001b[43m*\u001b[49m\u001b[43margs\u001b[49m\u001b[43m,\u001b[49m\u001b[43m \u001b[49m\u001b[43m*\u001b[49m\u001b[43m*\u001b[49m\u001b[43mkwargs\u001b[49m\u001b[43m)\u001b[49m\n",
      "\u001b[31mFileNotFoundError\u001b[39m: [Errno 2] No such file or directory: 'test_1.txt'"
     ]
    }
   ],
   "source": [
    "# use os\n",
    "import os\n",
    "# check if the file exists\n",
    "if os.path.exists('test_1.txt'):\n",
    "    # remove the file\n",
    "    os.remove('test_1.txt')\n",
    "    print(\"File removed successfully\")\n",
    "else:\n",
    "    print(\"The file does not exist\")\n",
    "# create a new file\n",
    "with open('test_1.txt', 'w') as file:\n",
    "    file.write(\"This is a new file created using Python.\")\n",
    "    print(\"File created successfully\")\n",
    "    # content = file.read()\n",
    "    print(f\"\\n{content}\")"
   ]
  },
  {
   "cell_type": "code",
   "execution_count": 18,
   "id": "c16366e9",
   "metadata": {},
   "outputs": [
    {
     "name": "stdout",
     "output_type": "stream",
     "text": [
      "File written successfully.\n"
     ]
    }
   ],
   "source": [
    "def create_file(path):\n",
    "    # Ensure the directory exists\n",
    "    dir_name = os.path.dirname(path)\n",
    "    if dir_name:\n",
    "        os.makedirs(dir_name, exist_ok=True)\n",
    "    # If a directory exists at the file path, remove it\n",
    "    if os.path.isdir(path):\n",
    "        os.rmdir(path)      \n",
    "    with open(path, 'w+') as f:\n",
    "        f.write(\"hello\\nworld\")\n",
    "        print(\"File written successfully.\")\n",
    "\n",
    "create_file('test_dir/test.txt')"
   ]
  },
  {
   "cell_type": "code",
   "execution_count": 21,
   "id": "228bc4ea",
   "metadata": {},
   "outputs": [
    {
     "name": "stdout",
     "output_type": "stream",
     "text": [
      "Hello, world!\n",
      "Hello, world!\n",
      "Appending a new line to the file.\n"
     ]
    }
   ],
   "source": [
    "#write\n",
    "with open('test.txt', 'w') as file:\n",
    "    file.write(\"Hello, world!\") \n",
    "# read again to see the changes\n",
    "with open('test.txt', 'r') as file:\n",
    "    content = file.read()\n",
    "    print(content)\n",
    "# append\n",
    "with open('test.txt', 'a') as file:\n",
    "    file.write(\"\\nAppending a new line to the file.\")\n",
    "# read again to see the appended content\n",
    "with open('test.txt', 'r') as file:\n",
    "    content = file.read()\n",
    "    print(content)"
   ]
  }
 ],
 "metadata": {
  "kernelspec": {
   "display_name": "data",
   "language": "python",
   "name": "python3"
  },
  "language_info": {
   "codemirror_mode": {
    "name": "ipython",
    "version": 3
   },
   "file_extension": ".py",
   "mimetype": "text/x-python",
   "name": "python",
   "nbconvert_exporter": "python",
   "pygments_lexer": "ipython3",
   "version": "3.13.3"
  }
 },
 "nbformat": 4,
 "nbformat_minor": 5
}
