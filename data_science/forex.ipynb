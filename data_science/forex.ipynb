{
 "cells": [
  {
   "cell_type": "code",
   "execution_count": 29,
   "id": "500e5ef0",
   "metadata": {},
   "outputs": [],
   "source": [
    "import pandas as pd\n",
    "import numpy as np\n",
    "import seaborn as sns\n",
    "import datetime as dt"
   ]
  },
  {
   "cell_type": "code",
   "execution_count": 30,
   "id": "d94f3177",
   "metadata": {},
   "outputs": [],
   "source": [
    "df = pd.read_csv('data/forex_predictions_data.csv')"
   ]
  },
  {
   "cell_type": "code",
   "execution_count": 31,
   "id": "4f9e065d",
   "metadata": {},
   "outputs": [
    {
     "name": "stdout",
     "output_type": "stream",
     "text": [
      "         Date     Open     High      Low    Close Volume  Predicted_Close  \\\n",
      "0  2024-01-01  1.18727  1.92461  0.85312  1.18154   2201          1.22984   \n",
      "1  2024-01-02  1.47536  1.82881  0.54067  1.32296  error          1.03797   \n",
      "2  2024-01-03  1.36600  1.78415  0.54242  1.28539   4420          1.03888   \n",
      "3  2024-01-04  1.29933  1.54684  0.99332  1.17805   4079          1.00117   \n",
      "4  2024-01-05  1.07801  1.68386  0.68714      NaN   1832          1.48385   \n",
      "\n",
      "  Currency_Pair Signal  Confidence  \n",
      "0       EUR/USD   Hold        0.90  \n",
      "1       EUR/USD   Sell         NaN  \n",
      "2       EUR/USD   Sell         NaN  \n",
      "3       EUR/USD   Sell        0.64  \n",
      "4       EUR/USD   Sell        0.68  \n",
      "<class 'pandas.core.frame.DataFrame'>\n",
      "RangeIndex: 229 entries, 0 to 228\n",
      "Data columns (total 10 columns):\n",
      " #   Column           Non-Null Count  Dtype  \n",
      "---  ------           --------------  -----  \n",
      " 0   Date             226 non-null    object \n",
      " 1   Open             224 non-null    float64\n",
      " 2   High             220 non-null    float64\n",
      " 3   Low              225 non-null    float64\n",
      " 4   Close            212 non-null    float64\n",
      " 5   Volume           226 non-null    object \n",
      " 6   Predicted_Close  222 non-null    float64\n",
      " 7   Currency_Pair    229 non-null    object \n",
      " 8   Signal           227 non-null    object \n",
      " 9   Confidence       218 non-null    float64\n",
      "dtypes: float64(6), object(4)\n",
      "memory usage: 18.0+ KB\n",
      "None\n",
      "             Open        High         Low       Close  Predicted_Close  \\\n",
      "count  224.000000  220.000000  225.000000  212.000000       222.000000   \n",
      "mean     1.239946    1.753113    0.750030    1.245072         1.250415   \n",
      "std      0.148956    0.147816    0.150434    0.140594         0.156102   \n",
      "min      1.002530    1.505420    0.505680    1.002320         1.000120   \n",
      "25%      1.111860    1.638832    0.614320    1.122535         1.115280   \n",
      "50%      1.248105    1.763400    0.746310    1.235910         1.259605   \n",
      "75%      1.365100    1.877682    0.877570    1.368805         1.392158   \n",
      "max      1.493440    1.995250    0.999860    1.498440         1.499680   \n",
      "\n",
      "       Confidence  \n",
      "count  218.000000  \n",
      "mean     0.756468  \n",
      "std      0.135125  \n",
      "min      0.500000  \n",
      "25%      0.652500  \n",
      "50%      0.760000  \n",
      "75%      0.870000  \n",
      "max      1.000000  \n",
      "(229, 10)\n"
     ]
    }
   ],
   "source": [
    "# inspect\n",
    "print(df.head())\n",
    "print(df.info())\n",
    "print(df.describe())\n",
    "print(df.shape)"
   ]
  },
  {
   "cell_type": "code",
   "execution_count": 32,
   "id": "5956ee04",
   "metadata": {},
   "outputs": [
    {
     "name": "stdout",
     "output_type": "stream",
     "text": [
      "Date                3\n",
      "Open                5\n",
      "High                9\n",
      "Low                 4\n",
      "Close              17\n",
      "Volume              3\n",
      "Predicted_Close     7\n",
      "Currency_Pair       0\n",
      "Signal              2\n",
      "Confidence         11\n",
      "dtype: int64\n"
     ]
    }
   ],
   "source": [
    "#show nulls\n",
    "print(df.isnull().sum())"
   ]
  },
  {
   "cell_type": "code",
   "execution_count": 33,
   "id": "f92b6b14",
   "metadata": {},
   "outputs": [
    {
     "name": "stdout",
     "output_type": "stream",
     "text": [
      "Date               3\n",
      "Open               0\n",
      "High               0\n",
      "Low                0\n",
      "Close              0\n",
      "Volume             0\n",
      "Predicted_Close    0\n",
      "Currency_Pair      0\n",
      "Signal             2\n",
      "Confidence         0\n",
      "dtype: int64\n"
     ]
    },
    {
     "name": "stderr",
     "output_type": "stream",
     "text": [
      "/var/folders/t4/fp87jt9n1438scx07zt_2q_80000gp/T/ipykernel_21584/704829697.py:9: FutureWarning: A value is trying to be set on a copy of a DataFrame or Series through chained assignment using an inplace method.\n",
      "The behavior will change in pandas 3.0. This inplace method will never work because the intermediate object on which we are setting values always behaves as a copy.\n",
      "\n",
      "For example, when doing 'df[col].method(value, inplace=True)', try using 'df.method({col: value}, inplace=True)' or df[col] = df[col].method(value) instead, to perform the operation inplace on the original object.\n",
      "\n",
      "\n",
      "  df[col].fillna(df[col].median(), inplace=True)\n"
     ]
    }
   ],
   "source": [
    "# turn numeric data to NaN\n",
    "cols = df.select_dtypes(include=['float64', 'int64']).columns\n",
    "cols = list(cols) + ['Volume']\n",
    "df[cols] = df[cols].apply(pd.to_numeric, errors='coerce')\n",
    "\n",
    "\n",
    "for col in cols:\n",
    "    if df[col].isnull().sum() > 0:\n",
    "        df[col].fillna(df[col].median(), inplace=True)\n",
    "        \n",
    "#show nulls again\n",
    "print(df.isnull().sum())"
   ]
  },
  {
   "cell_type": "code",
   "execution_count": 34,
   "id": "3c11fd71",
   "metadata": {},
   "outputs": [
    {
     "name": "stdout",
     "output_type": "stream",
     "text": [
      "Date               3\n",
      "Open               0\n",
      "High               0\n",
      "Low                0\n",
      "Close              0\n",
      "Volume             0\n",
      "Predicted_Close    0\n",
      "Currency_Pair      0\n",
      "Signal             0\n",
      "Confidence         0\n",
      "dtype: int64\n"
     ]
    }
   ],
   "source": [
    "# handle categorical data\n",
    "cat_cols = ['Signal','Currency_Pair']\n",
    "for col in cat_cols:\n",
    "    if df[col].isnull().sum() > 0:\n",
    "        # fill NaN with mode\n",
    "        df[col] = df[col].fillna(df[col].mode()[0])  # fill NaN with mode\n",
    "    \n",
    "#show nulls again\n",
    "print(df.isnull().sum())"
   ]
  },
  {
   "cell_type": "code",
   "execution_count": 35,
   "id": "7bb441fe",
   "metadata": {},
   "outputs": [
    {
     "name": "stdout",
     "output_type": "stream",
     "text": [
      "Date               3\n",
      "Open               0\n",
      "High               0\n",
      "Low                0\n",
      "Close              0\n",
      "Volume             0\n",
      "Predicted_Close    0\n",
      "Currency_Pair      0\n",
      "Signal             0\n",
      "Confidence         0\n",
      "dtype: int64\n"
     ]
    }
   ],
   "source": [
    "# coerce date\n",
    "df['Date'] = pd.to_datetime(df['Date'], errors='coerce')\n",
    "print(df.isnull().sum())"
   ]
  },
  {
   "cell_type": "code",
   "execution_count": 37,
   "id": "68e21e6d",
   "metadata": {},
   "outputs": [
    {
     "name": "stdout",
     "output_type": "stream",
     "text": [
      "12\n"
     ]
    }
   ],
   "source": [
    "print (df.duplicated(subset=['Date']).sum())"
   ]
  }
 ],
 "metadata": {
  "kernelspec": {
   "display_name": "data",
   "language": "python",
   "name": "python3"
  },
  "language_info": {
   "codemirror_mode": {
    "name": "ipython",
    "version": 3
   },
   "file_extension": ".py",
   "mimetype": "text/x-python",
   "name": "python",
   "nbconvert_exporter": "python",
   "pygments_lexer": "ipython3",
   "version": "3.12.7"
  }
 },
 "nbformat": 4,
 "nbformat_minor": 5
}
